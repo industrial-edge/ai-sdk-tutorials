{
  "cells": [
    {
      "cell_type": "markdown",
      "metadata": {
        "copyright": "Copyright (C) Siemens AG 2021. All Rights Reserved."
      },
      "source": [
        "# Create a delta edge configuration package \n",
        "\n",
        "In this notebook, the main goal is to create a delta package from 2 edge configuration packages.  \n",
        "This is practical if the edge configuration package is large and you want to save time during deploying a small update.  \n",
        "Let us assume you have already created and deployed an edge configuration package and only want to replace the entrypoint Python script.\n",
        "\n",
        "To go through this scenario in this notebook, we will need:\n",
        "- **State-Identifier-edge_1.zip** created in notebook [30-CreatePipelinePackage.ipynb](30-CreatePipelinePackage.ipynb)\n"
      ]
    },
    {
      "cell_type": "markdown",
      "metadata": {},
      "source": [
        "### Imports  "
      ]
    },
    {
      "cell_type": "code",
      "execution_count": null,
      "metadata": {},
      "outputs": [],
      "source": [
        "from simaticai import deployment\n",
        "from pathlib import Path\n",
        "import shutil\n",
        "import sys\n",
        "import os\n",
        "sys.path.insert(0, str(Path('../src').resolve()))"
      ]
    },
    {
      "cell_type": "markdown",
      "metadata": {},
      "source": [
        "### Create an updated edge package with a different Python script\n",
        "\n",
        "This step creates a new edge package with same name as the origin package but with a different entrypoint and different pipeline version.  \n",
        "**Please note that we only updated the version of the pipeline and left the version of the component untouched.**  \n",
        "Otherwise, AI Inference Server would regard the whole component changed so we would not benefit from the delta mechanism."
      ]
    },
    {
      "cell_type": "code",
      "execution_count": null,
      "metadata": {
        "tags": [
          "testinit_sdk_wheel_path"
        ]
      },
      "outputs": [],
      "source": [
        "component = deployment.PythonComponent(name='inference', version='1.0.0', python_version='3.11')\n",
        "\n",
        "shutil.copy(\"../entrypoint.py\", \"../starter.py\")\n",
        "component.add_resources(\"..\", \"starter.py\")\n",
        "component.set_entrypoint('starter.py') \n",
        "component.add_resources(\"..\", [\"src/si\"])\n",
        "component.add_resources(\"..\", \"models/clustering-model.joblib\")\n",
        "\n",
        "component.add_input(\"ph1\", \"Double\")\n",
        "component.add_input(\"ph2\", \"Double\")\n",
        "component.add_input(\"ph3\", \"Double\")\n",
        "\n",
        "component.add_output(\"prediction\", \"Integer\")\n",
        "\n",
        "#To assure compatibility with older versions of AI SDK (<v1.5.0), you must define the `version` parameter in the `from_components()` method\n",
        "pipeline = deployment.Pipeline.from_components([component], name='State Identifier')\n",
        "pipeline.add_parameter(\"step_size\", 300, \"Integer\")\n",
        "pipeline.set_timeshifting_periodicity(250)\n",
        "\n",
        "pipeline.add_dependencies(['tsfresh'])\n",
        "\n",
        "pipeline.validate()\n",
        "\n",
        "pipeline_package_path = pipeline.export('../packages')"
      ]
    },
    {
      "cell_type": "markdown",
      "metadata": {},
      "source": [
        "### Create the delta for the updated package"
      ]
    },
    {
      "cell_type": "code",
      "execution_count": null,
      "metadata": {},
      "outputs": [],
      "source": [
        "origin_package_path = Path('../packages/State-Identifier-edge_1.zip')\n",
        "new_package_path = Path('../packages/State-Identifier-edge_2.zip')\n",
        "\n",
        "delta_package_path = deployment.create_delta_package(origin_package_path, new_package_path)"
      ]
    },
    {
      "cell_type": "markdown",
      "metadata": {},
      "source": [
        "### Results"
      ]
    },
    {
      "cell_type": "markdown",
      "metadata": {},
      "source": [
        "Compare by how much the delta package is smaller than the complete updated package.  \n",
        "This correlates with how much faster the upload to AI Inference Server will be."
      ]
    },
    {
      "cell_type": "code",
      "execution_count": null,
      "metadata": {},
      "outputs": [],
      "source": [
        "origin_package = os.stat('../packages/State-Identifier-edge_1.zip')\n",
        "delta_package = os.stat('../packages/State-Identifier-edge_delta_2.zip')\n",
        "print(f'Origin edge package size in Bytes: {origin_package.st_size}\\n')\n",
        "print(f'Delta edge package size in Bytes: {delta_package.st_size}\\n')"
      ]
    }
  ],
  "metadata": {
    "kernelspec": {
      "display_name": "Python (state_identifier)",
      "language": "python",
      "name": "state_identifier"
    },
    "language_info": {
      "codemirror_mode": {
        "name": "ipython",
        "version": 3
      },
      "file_extension": ".py",
      "mimetype": "text/x-python",
      "name": "python",
      "nbconvert_exporter": "python",
      "pygments_lexer": "ipython3",
      "version": "3.11.9"
    }
  },
  "nbformat": 4,
  "nbformat_minor": 4
}
