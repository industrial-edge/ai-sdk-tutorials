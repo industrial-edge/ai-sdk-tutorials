{
  "cells": [
    {
      "cell_type": "markdown",
      "metadata": {
        "copyright": "Copyright (C) Siemens AG 2021. All Rights Reserved."
      },
      "source": [
        "# Test edge configuration package locally\n",
        "\n",
        "In this notebook, the main goal is to test the Edge Package which we created in notebook [30-CreatePipelinePackage](30-CreatePipelinePackage.ipynb).\n",
        "For this purpose we use class `LocalPipelineRunner` from module `simaticai.testing.pipeline_runner`.\n",
        "\n",
        "To execute this notebook, we will need:\n",
        "- State-Identifier-edge_1.zip created in notebook [30-CreatePipelinePackage](30-CreatePipelinePackage.ipynb)\n",
        "- training data set which was used in notebook [10-CreateClusteringModel](10-CreateClusteringModel.ipynb)\n",
        "\n",
        "The `LocalPipelineRunner` object takes the edge configuration package and extracts its components.\n",
        "Once the components are extracted, you can run them individually by calling `run_component` with component name and structured input data.\n",
        "The method builds a `venv` Python virtual environment for running the component and installs the required dependencies listed in `requirements.txt` for the component.\n",
        "Once the virtual python environment is ready, the method executes and feeds the component with your test data.\n",
        "The result will be the list of outputs of your component. If your component does not always produce an output, as is the case with a preprocessor aggregating a windowful of data, the output list will be shorter than the input list."
      ]
    },
    {
      "cell_type": "markdown",
      "metadata": {},
      "source": [
        "### Imports  "
      ]
    },
    {
      "cell_type": "code",
      "execution_count": null,
      "metadata": {},
      "outputs": [],
      "source": [
        "import glob\n",
        "import pandas\n",
        "from pathlib import Path\n",
        "\n",
        "from simaticai.testing.pipeline_runner import LocalPipelineRunner"
      ]
    },
    {
      "cell_type": "markdown",
      "metadata": {},
      "source": [
        "### Define package to test"
      ]
    },
    {
      "cell_type": "code",
      "execution_count": null,
      "metadata": {},
      "outputs": [],
      "source": [
        "package_path = Path('../packages/State-Identifier-edge_1.zip')"
      ]
    },
    {
      "cell_type": "markdown",
      "metadata": {},
      "source": [
        "## Define a dataset to test the package\n",
        "The goal here is to create a list of input data which the `run(..)` method will be triggered with.  \n",
        "For this reason, we read our training data from the original csv file and build a list with dictionaries of the 'ph1', 'ph2', 'ph3' values."
      ]
    },
    {
      "cell_type": "code",
      "execution_count": null,
      "metadata": {},
      "outputs": [],
      "source": [
        "data_path = \"../data\"\n",
        "csv_files = glob.glob(f\"{data_path}/**/*.csv\")\n",
        "pandas.DataFrame(data=csv_files)"
      ]
    },
    {
      "cell_type": "code",
      "execution_count": null,
      "metadata": {},
      "outputs": [],
      "source": [
        "input_series = pandas.read_csv(csv_files[0])  # read test data from the same csv file we used to train the model\n",
        "input_list = input_series[['ph1', 'ph2', 'ph3']].to_dict(orient='records')  # creating a list of dictionaries as the `run(..)` method receives them\n",
        "input_list[:10]"
      ]
    },
    {
      "cell_type": "markdown",
      "metadata": {},
      "source": [
        "## Test the pipeline configuration package\n",
        "To do so we instantiate a `LocalPipelineRunner` object with the path of our configuration package, and a directory where we want to check the results.\n",
        "This directory will contain both the extracted component and the created python virtual environment.\n",
        "If the directory is not defined, a temporary directory is created and deleted after testing."
      ]
    },
    {
      "cell_type": "code",
      "execution_count": null,
      "metadata": {},
      "outputs": [],
      "source": [
        "test_dir = Path('../test')\n",
        "\n",
        "with LocalPipelineRunner(package_path, test_dir) as pipelineRunner:\n",
        "    # uncomment the following line to try the pipeline with non-default parameters\n",
        "    # pipelineRunner.update_parameters({\"step_size\": 100})     \n",
        "    outputs = pipelineRunner.run_pipeline(input_list[:1200])  # test with the first 1200 records which form 4 windows of data"
      ]
    },
    {
      "cell_type": "markdown",
      "metadata": {},
      "source": [
        "## Check the results\n",
        "The method returns with the calculated results where the result is not None, so we have a list with 4 results."
      ]
    },
    {
      "cell_type": "code",
      "execution_count": null,
      "metadata": {},
      "outputs": [],
      "source": [
        "outputs"
      ]
    },
    {
      "cell_type": "markdown",
      "metadata": {},
      "source": [
        "Since we instantiated the runner with an explicitly specified, existing working directory, the full result list is also available in file 'output.joblib' and can be read into a pandas `DataFrame`."
      ]
    },
    {
      "cell_type": "code",
      "execution_count": null,
      "metadata": {},
      "outputs": [],
      "source": [
        "import joblib\n",
        "results = joblib.load(\"../test/State-Identifier-edge_1/inference/output.joblib\")\n",
        "\n",
        "results[297:302]"
      ]
    }
  ],
  "metadata": {
    "kernelspec": {
      "display_name": "Python (state_identifier)",
      "language": "python",
      "name": "state_identifier"
    },
    "language_info": {
      "codemirror_mode": {
        "name": "ipython",
        "version": 3
      },
      "file_extension": ".py",
      "mimetype": "text/x-python",
      "name": "python",
      "nbconvert_exporter": "python",
      "pygments_lexer": "ipython3",
      "version": "3.11.9"
    }
  },
  "nbformat": 4,
  "nbformat_minor": 4
}
