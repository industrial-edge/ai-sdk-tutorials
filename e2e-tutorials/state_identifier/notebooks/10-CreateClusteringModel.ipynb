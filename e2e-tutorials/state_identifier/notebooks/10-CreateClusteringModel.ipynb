{
  "cells": [
    {
      "cell_type": "markdown",
      "metadata": {
        "SPDX-FileCopyrightText": "Copyright (C) Siemens AG 2021. All Rights Reserved.",
		    "SPDX-License-Identifier": "MIT"
      },
      "source": [
        "# Unsupervised learning with a Clustering Model\n",
        "\n",
        "This notebook shows the necessary steps you need to take in order to train and save a model if you already know the most appropriate parameters.\n",
        "At the end of the notebook, you will have a trained model, which is used in the subsequent notebooks to create an edge package that can be deployed on AI Inference Server."
      ]
    },
    {
      "cell_type": "markdown",
      "metadata": {},
      "source": [
        "### Imports  "
      ]
    },
    {
      "cell_type": "code",
      "execution_count": null,
      "metadata": {},
      "outputs": [],
      "source": [
        "import pandas\n",
        "import joblib\n",
        "from sklearn.cluster import KMeans\n",
        "from sklearn.pipeline import Pipeline\n",
        "from sklearn.preprocessing import MinMaxScaler\n",
        "\n",
        "import seaborn as sns\n",
        "from matplotlib import pyplot\n",
        "\n",
        "import tsfresh.feature_extraction.feature_calculators as fc\n",
        "\n",
        "import sys\n",
        "from pathlib import Path\n",
        "sys.path.insert(0, str(Path('../src').resolve()))\n",
        "from si.pipeline import WindowTransformer, FeatureTransformer, FillMissingValues\n",
        "from si.preprocessing import positive_sum_of_changes, negative_sum_of_changes\n",
        "from si.pipeline import back_propagate_labels\n",
        "\n",
        "%matplotlib inline"
      ]
    },
    {
      "attachments": {},
      "cell_type": "markdown",
      "metadata": {},
      "source": [
        "### Load data"
      ]
    },
    {
      "cell_type": "markdown",
      "metadata": {},
      "source": [
        "Once the list is shown, choose the appropriate one with its index. In our case, we'll choose the very first element in the list with index 0."
      ]
    },
    {
      "cell_type": "code",
      "execution_count": null,
      "metadata": {},
      "outputs": [],
      "source": [
        "df = pandas.read_csv(\"../data/raw/si-sample.csv\")\n",
        "df"
      ]
    },
    {
      "cell_type": "markdown",
      "metadata": {},
      "source": [
        "The data set contains three strongly correlated signals and we therefore want to use the sum of their values.  \n",
        "In order to calculate the sum, we will introduce a Transformer class. We will use it both to preprocess data for visualizing the input, and also as a preprocessing step in our ML pipeline.  \n",
        "The class is defined in python file ([preprocessing.py](../src/si/preprocessing.py)), so we need to import it, and define its input columns."
      ]
    },
    {
      "cell_type": "code",
      "execution_count": null,
      "metadata": {},
      "outputs": [],
      "source": [
        "from si.preprocessing import SumColumnsTransformer\n",
        "\n",
        "input_columns = [\"ph1\",\"ph2\",\"ph3\"]\n",
        "\n",
        "df[\"ph_sum\"] = SumColumnsTransformer().transform(df[input_columns].values).flatten()"
      ]
    },
    {
      "cell_type": "markdown",
      "metadata": {},
      "source": [
        "### Define the features\n",
        "The features specified here will be extracted window by window. You can differentiate between the importance of various features by specifying different weights as integers.  \n",
        "Features specified with a weight greater than 1 will be fed to the subsequent parts of the ML pipeline with the corresponding multiplicity."
      ]
    },
    {
      "cell_type": "code",
      "execution_count": null,
      "metadata": {},
      "outputs": [],
      "source": [
        "weighted_feature_list = [\n",
        "    (2, [ fc.maximum, fc.minimum, fc.mean ]),\n",
        "    (1, [ fc.variance, fc.standard_deviation ]),\n",
        "    (1, [ fc.sum_values ]),\n",
        "    (1, [ fc.absolute_sum_of_changes ]),\n",
        "    (1, [ positive_sum_of_changes, negative_sum_of_changes ]),\n",
        "    (1, [ fc.count_above_mean, fc.longest_strike_above_mean,  fc.longest_strike_below_mean ])\n",
        "]"
      ]
    },
    {
      "cell_type": "markdown",
      "metadata": {},
      "source": [
        "### Define AI/ML pipeline\n",
        "Define your AI/ML pipeline as a sequence of preprocessing, feature extraction and clustering steps."
      ]
    },
    {
      "cell_type": "code",
      "execution_count": null,
      "metadata": {},
      "outputs": [],
      "source": [
        "pipe = Pipeline([\n",
        "        ('preprocessing', Pipeline([\n",
        "            ('fillmissing', FillMissingValues('ffill')),\n",
        "            ('summarization', SumColumnsTransformer()), # summarizes the variables into one variable\n",
        "            ('windowing', WindowTransformer(window_size=300, window_step=300)),\n",
        "            ('featurization', FeatureTransformer(function_list=weighted_feature_list)),\n",
        "            ('scaling', MinMaxScaler(feature_range=(0, 1))),\n",
        "        ])),\n",
        "        ('clustering', KMeans(n_clusters=3, random_state=0)),\n",
        "    ])"
      ]
    },
    {
      "attachments": {},
      "cell_type": "markdown",
      "metadata": {},
      "source": [
        "### Train the model"
      ]
    },
    {
      "cell_type": "code",
      "execution_count": null,
      "metadata": {},
      "outputs": [],
      "source": [
        "X = df[input_columns].values # transforming training data\n",
        "\n",
        "pipe.fit(X)"
      ]
    },
    {
      "cell_type": "markdown",
      "metadata": {},
      "source": [
        "### Predict with the model\n",
        "Once the model has been trained, we can predict the class of any windowed data, or we can display the training data in full with color codes."
      ]
    },
    {
      "cell_type": "code",
      "execution_count": null,
      "metadata": {},
      "outputs": [],
      "source": [
        "x_classes = pipe.predict(X)\n",
        "df = back_propagate_labels(df, pipe['preprocessing'], x_classes)\n",
        "df"
      ]
    },
    {
      "cell_type": "code",
      "execution_count": null,
      "metadata": {},
      "outputs": [],
      "source": [
        "colormap = {-1: 'white', 0: 'red', 1: 'green', 2: 'blue', 3: 'orange', 4: 'purple', 5: 'yellow'}\n",
        "fig, ax = pyplot.subplots(figsize=(24, 12))\n",
        "sns.scatterplot(x=df.index, y='ph_sum', data=df, hue='class', palette=colormap, ax=ax)"
      ]
    },
    {
      "attachments": {},
      "cell_type": "markdown",
      "metadata": {},
      "source": [
        "#### Save model as joblib file\n",
        "\n",
        "If you are satisfied with the result, you can save your model into a joblib file. "
      ]
    },
    {
      "cell_type": "code",
      "execution_count": null,
      "metadata": {},
      "outputs": [],
      "source": [
        "model_path = Path(\"../models/clustering-model.joblib\")\n",
        "with open(model_path, 'wb') as fh:\n",
        "    joblib.dump(pipe, model_path, compress=9)\n"
      ]
    },
    {
      "attachments": {},
      "cell_type": "markdown",
      "metadata": {},
      "source": [
        "#### Subsequent notebooks\n",
        "\n",
        "With the saved model you can create a Pipeline Component which is the basic block of a Pipeline.\n",
        "\n",
        "Notebook [20-CreateInferenceWrapper](20-CreateInferenceWrapper.ipynb) shows how to create a Python wrapper around the model.  \n",
        "Notebook [30-CreatePipelinePackage](30-CreatePipelinePackage.ipynb) demonstrates the steps how to create the edge configuration package. "
      ]
    }
  ],
  "metadata": {
    "kernelspec": {
      "display_name": "Python (state_identifier)",
      "language": "python",
      "name": "state_identifier"
    },
    "language_info": {
      "codemirror_mode": {
        "name": "ipython",
        "version": 3
      },
      "file_extension": ".py",
      "mimetype": "text/x-python",
      "name": "python",
      "nbconvert_exporter": "python",
      "pygments_lexer": "ipython3",
      "version": "3.11.9"
    }
  },
  "nbformat": 4,
  "nbformat_minor": 4
}
