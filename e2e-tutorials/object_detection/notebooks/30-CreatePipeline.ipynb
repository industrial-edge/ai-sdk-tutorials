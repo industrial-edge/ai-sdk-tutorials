{
 "cells": [
  {
   "attachments": {},
   "cell_type": "markdown",
   "metadata": {
    "SPDX-FileCopyrightText": "Copyright (C) Siemens AG 2021. All Rights Reserved.",
		"SPDX-License-Identifier": "MIT"
   },
   "source": [
    "# Create an Onnx edge configuration package\n"
   ]
  },
  {
   "attachments": {},
   "cell_type": "markdown",
   "metadata": {},
   "source": [
    "## Create Preprocessing component\n",
    "\n",
    "The responsibility of the `Preprocessing Python Component` is to receive `ImageSet payload` and transform it to the input required by the `GPU Runtime Component`.. "
   ]
  },
  {
   "cell_type": "code",
   "execution_count": null,
   "metadata": {},
   "outputs": [],
   "source": [
    "from simaticai import deployment\n",
    "\n",
    "preprocessing = deployment.PythonComponent(name='preprocessing', python_version='3.11')\n",
    "\n",
    "preprocessing.add_resources('../src/preprocessing/', 'preprocessing.py')\n",
    "preprocessing.set_entrypoint('preprocessing.py')\n",
    "preprocessing.set_requirements('../src/preprocessing/requirements.txt')\n",
    "\n",
    "preprocessing.add_input(\"vision_payload\", \"ImageSet\")\n",
    "\n",
    "preprocessing.add_output(\"input\", \"Float32Array\")\n",
    "preprocessing.add_output(\"iuid\", \"String\")\n",
    "\n",
    "preprocessing"
   ]
  },
  {
   "cell_type": "markdown",
   "metadata": {},
   "source": [
    "## Create Object Detection component\n",
    "\n",
    "The responsibility of the `Detection GPU Runtime Component` is to produce a prediction from the given input and pass `boxes`, `labels` and `scores`.  \n",
    "\n",
    "First we add the model to the component, and the listed information will be added automatically.\n",
    "- model-config.pbtxt\n",
    "- component inputs required by the model\n",
    "- component outputs required by the model"
   ]
  },
  {
   "cell_type": "code",
   "execution_count": null,
   "metadata": {},
   "outputs": [],
   "source": [
    "from simaticai.deployment import model_config\n",
    "detection = deployment.GPURuntimeComponent(name='detection')\n",
    "\n",
    "detection.use_model(\"../src/detection/1/model.onnx\", \n",
    "                    max_batch_size=1, \n",
    "                    warmup=model_config.Warmup.RANDOM_DATA)\n",
    "\n",
    "# adding extra inputs and outputs to connect the payload with the result\n",
    "detection.add_input(\"iuid\", \"String\")  \n",
    "detection.add_output(\"iuid\", \"String\")\n",
    "\n",
    "detection"
   ]
  },
  {
   "cell_type": "markdown",
   "metadata": {},
   "source": [
    "With the code above, AI SDK generates a default model_config for your model, containing the required information as follows\n",
    "- platform information\n",
    "- input tensor(s) name, type and shape\n",
    "- output tensor(s) name, type and shape\n",
    "- model_warmup\n",
    "\n",
    "To change this configuration, you can save the component and fine-tune the generated `config.pbtxt` file. \n",
    "\n",
    "```python\n",
    "# python\n",
    "detection.save(\"../packages/components/\") # saving component\n",
    "# [...] editing ../packages/components/detection/config.pbtxt file, e.g adding TensorRT optimization\n",
    "detection.use_config(\"../packages/components/detection/config.pbtxt\")  # using the fine-tuned config file\n",
    "```"
   ]
  },
  {
   "cell_type": "markdown",
   "metadata": {},
   "source": [
    "## Create Postprocessing component\n",
    "\n",
    "The responsibility of the `Postprocessing Python Component` is to receive the predictions from the the `Detection GPU Runtime Component` and make a decision on the results. "
   ]
  },
  {
   "cell_type": "code",
   "execution_count": null,
   "metadata": {},
   "outputs": [],
   "source": [
    "postprocessing = deployment.PythonComponent(name='postprocessing', python_version='3.11')\n",
    "\n",
    "postprocessing.add_resources('../src/postprocessing/', 'postprocessing.py')\n",
    "postprocessing.set_entrypoint('postprocessing.py')\n",
    "postprocessing.set_requirements('../src/postprocessing/requirements.txt')\n",
    "\n",
    "postprocessing.add_input(\"iuid\", \"String\")\n",
    "postprocessing.add_input(\"boxes\", \"Float32Array\")\n",
    "postprocessing.add_input(\"labels\", \"Int64Array\")\n",
    "postprocessing.add_input(\"scores\", \"Float32Array\")\n",
    "\n",
    "postprocessing.add_output(\"prediction\", \"String\")\n",
    "postprocessing.add_output(\"result\", \"String\")\n",
    "\n",
    "postprocessing"
   ]
  },
  {
   "attachments": {},
   "cell_type": "markdown",
   "metadata": {},
   "source": [
    "#### Create a pipeline from this component\n",
    "\n",
    "Now you can use the component to create a pipeline configuration.  "
   ]
  },
  {
   "cell_type": "code",
   "execution_count": null,
   "metadata": {
    "tags": [
     "testinit_package_name"
    ]
   },
   "outputs": [],
   "source": [
    "#To assure compatibility with older versions of AI SDK (<v1.5.0), you must define the `version` parameter in the `from_components()` method\n",
    "pipeline = deployment.Pipeline.from_components(\n",
    "    [preprocessing, detection, postprocessing], \n",
    "    name='BoardObjectDetection',\n",
    "    desc=\"3 Steps Pipeline for Object model to spot extra or missing holes, not expected damages on the a workpiece\")\n",
    "pipeline"
   ]
  },
  {
   "cell_type": "markdown",
   "metadata": {},
   "source": [
    "Once the pipeline is created, it can be exported as an edge configuration package and then tested by the notebook [40-TestPipelineLocally](./40-TestPipelineLocally.ipynb)."
   ]
  },
  {
   "cell_type": "code",
   "execution_count": null,
   "metadata": {},
   "outputs": [],
   "source": [
    "edge_package_path = pipeline.export('../packages')\n",
    "edge_package_path"
   ]
  },
  {
   "cell_type": "markdown",
   "metadata": {},
   "source": [
    "The edge package can be deployed to the `AI Model Manager` or imported into `AI Inference Server`."
   ]
  }
 ],
 "metadata": {
  "kernelspec": {
   "display_name": "(Python) Object Detection",
   "language": "python",
   "name": "object_detection"
  },
  "language_info": {
   "codemirror_mode": {
    "name": "ipython",
    "version": 3
   },
   "file_extension": ".py",
   "mimetype": "text/x-python",
   "name": "python",
   "nbconvert_exporter": "python",
   "pygments_lexer": "ipython3",
   "version": "3.11.9"
  }
 },
 "nbformat": 4,
 "nbformat_minor": 4
}
