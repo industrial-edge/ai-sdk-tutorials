{
  "cells": [
    {
      "attachments": {},
      "cell_type": "markdown",
      "metadata": {
        "copyright": "Copyright (C) Siemens AG 2021. All Rights Reserved."
      },
      "source": [
        "# Creating Test Set\n",
        "\n",
        "In this notebook we generate some artificial example image to check the model and the created pipeline functionality.  \n",
        "Our model is trained to detect holes and scratches on a workpiece of the shopfloor, so the test set will contain images with circles at certain positions (representing the intended holes) and/or lines (representing unintended scracthes on the board)."
      ]
    },
    {
      "cell_type": "markdown",
      "metadata": {},
      "source": [
        "### Create Dataset\n",
        "\n",
        "First we create the 'valid board' which only contains the 7 intended holes and no scratches, with a background image of size (224x224)."
      ]
    },
    {
      "cell_type": "code",
      "execution_count": null,
      "metadata": {},
      "outputs": [],
      "source": [
        "from PIL import Image\n",
        "\n",
        "_canvas_size = (224, 224)\n",
        "_WHITE = (255, 255, 255)\n",
        "_BLACK = (0, 0, 0)\n",
        "_BLUE = (68,115,197)\n",
        "\n",
        "board = Image.open(\"../data/raw/board.png\")\n",
        "print(\"board size:\", board.size)\n",
        "canvas = Image.new(mode=\"RGB\", size=_canvas_size, color=_WHITE)\n",
        "print(\"canvas size:\", canvas.size)\n",
        "board.show(), canvas.show()"
      ]
    },
    {
      "cell_type": "markdown",
      "metadata": {},
      "source": [
        "Now let's create a method to rotate the board on the background with random angle!"
      ]
    },
    {
      "cell_type": "code",
      "execution_count": null,
      "metadata": {},
      "outputs": [],
      "source": [
        "from random import randint\n",
        "\n",
        "def randomize(original: Image):\n",
        "    canvas = Image.new(mode=\"RGB\", size=_canvas_size, color=_WHITE)\n",
        "    delta_x = canvas.size[0] - original.size[0]\n",
        "    rnd_x = randint(10, delta_x - 10)\n",
        "    delta_y = canvas.size[1] - original.size[1]\n",
        "    rnd_y = randint(10, delta_y  - 10)\n",
        "    rotation = randint(-10,10)\n",
        "\n",
        "    canvas.paste(original.rotate(rotation, expand=True, fillcolor=_WHITE), (rnd_x, rnd_y))\n",
        "    return canvas\n",
        "\n",
        "valid_board = randomize(board)\n",
        "valid_board.show()"
      ]
    },
    {
      "cell_type": "code",
      "execution_count": null,
      "metadata": {},
      "outputs": [],
      "source": [
        "from pathlib import Path\n",
        "\n",
        "labels = [\"VALID\", \"EXTRA_HOLE\", \"MISSING_HOLE\", \"DAMAGED\"]  \n",
        "images_path = Path(\"../data/processed/\")\n",
        "training_set_size = 10"
      ]
    },
    {
      "cell_type": "markdown",
      "metadata": {},
      "source": [
        "Now we can create some image variation for valid boards and will save into \"VALID\" folder."
      ]
    },
    {
      "cell_type": "code",
      "execution_count": null,
      "metadata": {},
      "outputs": [],
      "source": [
        "\n",
        "valid_board = Path(images_path / labels[0])\n",
        "valid_board.mkdir(parents=True, exist_ok=True)\n",
        "\n",
        "for i in range(training_set_size):\n",
        "    image = randomize(board)\n",
        "    image.save(valid_board / f\"valid_{i}.jpg\")"
      ]
    },
    {
      "cell_type": "markdown",
      "metadata": {},
      "source": [
        "Let's define a method to create extra hole on the board!"
      ]
    },
    {
      "cell_type": "code",
      "execution_count": null,
      "metadata": {},
      "outputs": [],
      "source": [
        "from PIL import ImageDraw\n",
        "\n",
        "def draw_extra_hole(original: Image):\n",
        "    original = original.convert(\"RGBA\")\n",
        "    draw = ImageDraw.Draw(original)\n",
        "    r = 10\n",
        "    x = randint(20, original.size[0] - 20)\n",
        "    y = randint(20, original.size[1] - 20)\n",
        "    lu_point = (x - r, y - r)\n",
        "    rb_point = (x + r, y + r)\n",
        "    draw.ellipse([lu_point, rb_point], fill=_BLACK)\n",
        "\n",
        "    return original.convert(\"RGB\")\n",
        "\n",
        "extra_hole = draw_extra_hole(board)\n",
        "extra_hole.show()"
      ]
    },
    {
      "cell_type": "code",
      "execution_count": null,
      "metadata": {},
      "outputs": [],
      "source": [
        "# Extra holes on board\n",
        "extra_hole = Path(images_path / labels[1])\n",
        "extra_hole.mkdir(parents=True, exist_ok=True)\n",
        "\n",
        "for i in range(training_set_size):\n",
        "    image = draw_extra_hole(board)\n",
        "    rotated = randomize(image)\n",
        "    rotated.save(extra_hole / f\"extra_hole_{i}.jpg\")"
      ]
    },
    {
      "cell_type": "markdown",
      "metadata": {},
      "source": [
        "Let's define a method to delete a hole from the board!"
      ]
    },
    {
      "cell_type": "code",
      "execution_count": null,
      "metadata": {},
      "outputs": [],
      "source": [
        "from PIL import ImageDraw\n",
        "\n",
        "def delete_hole(original: Image):\n",
        "    holes = [\n",
        "        [(13,16),(33,36)],\n",
        "        [(46,18),(66,38)],\n",
        "        [(78,17),(98,37)],\n",
        "        [(110,17),(130,17)],\n",
        "\n",
        "        [(13,51),(33,71)],\n",
        "        [(14,83),(34,103)],\n",
        "        [(13,111),(33,131)],\n",
        "        [(110,150),(130,170)],\n",
        "    ]\n",
        "    original = original.convert(\"RGBA\")\n",
        "    draw = ImageDraw.Draw(original)\n",
        "    r = randint(0, len(holes) - 1)\n",
        "    draw.ellipse(holes[r], fill=_BLUE)\n",
        "\n",
        "    return original.convert(\"RGB\")\n",
        "\n",
        "missing_hole = delete_hole(board)\n",
        "missing_hole.show()"
      ]
    },
    {
      "cell_type": "code",
      "execution_count": null,
      "metadata": {},
      "outputs": [],
      "source": [
        "# Missing holes on board\n",
        "missing_hole = Path(images_path / labels[2])\n",
        "missing_hole.mkdir(parents=True, exist_ok=True)\n",
        "\n",
        "for i in range(training_set_size):\n",
        "    image = delete_hole(board)\n",
        "    rotated = randomize(image)\n",
        "    rotated.save(missing_hole / f\"extra_hole_{i}.jpg\")"
      ]
    },
    {
      "cell_type": "markdown",
      "metadata": {},
      "source": [
        "Let's define a method to create scratches on the board!  "
      ]
    },
    {
      "cell_type": "code",
      "execution_count": null,
      "metadata": {},
      "outputs": [],
      "source": [
        "from matplotlib import pyplot as plt\n",
        "\n",
        "def draw_lines(original: Image):\n",
        "    original = original.convert(\"RGBA\")\n",
        "    draw = ImageDraw.Draw(original)\n",
        "    \n",
        "    points = []\n",
        "    for i in range(randint(2,6)):\n",
        "        x1 = randint(36, original.size[0] - 36)\n",
        "        y1 = randint(36, original.size[1] - 36)\n",
        "        _point = (x1, y1)\n",
        "        points.append(_point)\n",
        "\n",
        "    draw.line(points, fill=_BLACK, width=2)\n",
        "\n",
        "    return original.convert(\"RGB\")\n",
        "\n",
        "lined = draw_lines(board)\n",
        "plt.imshow(lined)"
      ]
    },
    {
      "cell_type": "code",
      "execution_count": null,
      "metadata": {},
      "outputs": [],
      "source": [
        "# Extra lines on board\n",
        "extra_line = Path(images_path / labels[3])\n",
        "extra_line.mkdir(parents=True, exist_ok=True)\n",
        "\n",
        "for i in range(training_set_size):\n",
        "    image = draw_lines(board)\n",
        "    rotated = randomize(image)\n",
        "    rotated.save(extra_line / f\"extra_hole_{i}.jpg\")"
      ]
    },
    {
      "cell_type": "markdown",
      "metadata": {},
      "source": [
        "# Test set is ready now\n",
        "\n",
        "Now we have created a set of images for all of interesting cases, and they will be used in the following notebooks.  "
      ]
    }
  ],
  "metadata": {
    "kernelspec": {
      "display_name": "object-detection",
      "language": "python",
      "name": "object-detection"
    },
    "language_info": {
      "codemirror_mode": {
        "name": "ipython",
        "version": 3
      },
      "file_extension": ".py",
      "mimetype": "text/x-python",
      "name": "python",
      "nbconvert_exporter": "python",
      "pygments_lexer": "ipython3",
      "version": "3.11.9"
    }
  },
  "nbformat": 4,
  "nbformat_minor": 4
}
