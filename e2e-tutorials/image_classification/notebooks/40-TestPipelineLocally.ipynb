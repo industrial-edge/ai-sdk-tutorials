{
  "cells": [
    {
      "cell_type": "markdown",
      "metadata": {
        "SPDX-FileCopyrightText": "Copyright (C) Siemens AG 2021. All Rights Reserved.",
		    "SPDX-License-Identifier": "MIT"
      },
      "source": [
        "# Test the edge configuration package locally\n",
        "This notebook shows how to use `LocalPipelineRunner` to test the components of the edge package in a local virtual Python environment.\n",
        "\n",
        "The edge package shown and used was created with the [30-CreatePipelinePackage.ipynb](30-CreatePipelinePackage.ipynb) notebook."
      ]
    },
    {
      "attachments": {},
      "cell_type": "markdown",
      "metadata": {},
      "source": [
        "Please note, there is no official TFLite runtime for Windows.\n",
        "\n",
        "You can either use the full TensorFlow package, or build the TFLite wheel manually, following this guide: https://www.tensorflow.org/lite/guide/build_cmake_pip"
      ]
    },
    {
      "cell_type": "markdown",
      "metadata": {},
      "source": [
        "#### Imports"
      ]
    },
    {
      "cell_type": "code",
      "execution_count": null,
      "metadata": {},
      "outputs": [],
      "source": [
        "import glob\n",
        "import os\n",
        "from pathlib import Path\n",
        "import pandas as pd\n",
        "import sys\n",
        "\n",
        "from simaticai.testing.pipeline_runner import LocalPipelineRunner"
      ]
    },
    {
      "cell_type": "markdown",
      "metadata": {},
      "source": [
        "#### Create image input from a JPEG or PNG file"
      ]
    },
    {
      "cell_type": "code",
      "execution_count": null,
      "metadata": {},
      "outputs": [],
      "source": [
        "sys.path.append('../src')\n",
        "from payload import create_imageset_dict"
      ]
    },
    {
      "cell_type": "markdown",
      "metadata": {},
      "source": [
        "Create the required input format from an input JPG file using the method defined above."
      ]
    },
    {
      "cell_type": "code",
      "execution_count": null,
      "metadata": {},
      "outputs": [],
      "source": [
        "payload = create_imageset_dict('../data/processed/simatic_photos/S7_1500/IMG_1119.JPG', \"BayerRG8\")\n",
        "pipeline_input1 = { \"vision_payload\": payload }"
      ]
    },
    {
      "cell_type": "markdown",
      "metadata": {},
      "source": [
        "#### Test the edge configuration package locally\n",
        "Take the already created image package to be tested as input of the `LocalPipelineRunner`, and run the pipeline with the test data.\n",
        "The `LocalPipelineRunner` module is designed to be used __only__ inside a `with` block.\n",
        "\n",
        "The `run_pipeline` method can be called multiple times but be aware that the internal state of the components is reset between the calls. Use batch input if you want to keep the state between inputs."
      ]
    },
    {
      "cell_type": "code",
      "execution_count": null,
      "metadata": {
        "tags": [
          "testinit_package_name"
        ]
      },
      "outputs": [],
      "source": [
        "# Adjust the version number as needed\n",
        "image_on_edge_package = Path('../packages/ImageClassification-edge_1.zip')\n",
        "\n",
        "os.environ[\"LOGLEVEL\"] = \"INFO\"  # for configuring the LOGLEVEL of log module, it is necessary to set the LOGLEVEL environment variable to the required level.\n",
        "\n",
        "test_dir = Path.home() / \"test\"\n",
        "\n",
        "with LocalPipelineRunner(image_on_edge_package, test_dir) as runner:\n",
        "    pipeline_output = runner.run_pipeline([pipeline_input1])"
      ]
    },
    {
      "cell_type": "markdown",
      "metadata": {},
      "source": [
        "Examine output."
      ]
    },
    {
      "cell_type": "code",
      "execution_count": null,
      "metadata": {},
      "outputs": [],
      "source": [
        "pipeline_output"
      ]
    },
    {
      "cell_type": "markdown",
      "metadata": {},
      "source": [
        "#### Test the components locally\n",
        "Alternatively, you can run the components separately if you want to inspect their outputs.\n",
        "\n",
        "Remember: the internal state of the components is reset after `run_component` returns. Use batch input if you want to keep the state between successive inputs."
      ]
    },
    {
      "cell_type": "code",
      "execution_count": null,
      "metadata": {},
      "outputs": [],
      "source": [
        "os.environ[\"LOGLEVEL\"] = \"DEBUG\"    # by setting LOGLEVEL to DEBUG, you can get more detailed logs from log module. This is set by default.\n",
        "inference_component_input = [pipeline_input1]\n",
        "with LocalPipelineRunner(image_on_edge_package, test_dir) as runner:\n",
        "    inference_component_output = runner.run_component('inference', inference_component_input)"
      ]
    },
    {
      "cell_type": "markdown",
      "metadata": {},
      "source": [
        "Examine output."
      ]
    },
    {
      "cell_type": "code",
      "execution_count": null,
      "metadata": {},
      "outputs": [],
      "source": [
        "inference_component_output"
      ]
    },
    {
      "cell_type": "markdown",
      "metadata": {},
      "source": [
        "#### Feed the complete directory of images through pipeline"
      ]
    },
    {
      "attachments": {},
      "cell_type": "markdown",
      "metadata": {},
      "source": [
        "As the saved model will contain no information about what the numerical classes mean, we collect the class labels in a list.  \n",
        "Labels correspond to directories."
      ]
    },
    {
      "cell_type": "code",
      "execution_count": null,
      "metadata": {},
      "outputs": [],
      "source": [
        "image_dir = Path('../data/processed/simatic_photos')\n",
        "labels = [path.name for path in image_dir.iterdir() if path.is_dir()]\n",
        "labels.sort()\n",
        "labels"
      ]
    },
    {
      "cell_type": "markdown",
      "metadata": {},
      "source": [
        "Pick a directory and generate pipeline input from the JPG files in it."
      ]
    },
    {
      "cell_type": "code",
      "execution_count": null,
      "metadata": {},
      "outputs": [],
      "source": [
        "directory = labels[0]\n",
        "data_path = Path(\"../data/processed/simatic_photos\") / directory\n",
        "files = glob.glob(f\"{data_path}/*.JPG\")\n",
        "pipeline_input = [{ \"vision_payload\": create_imageset_dict(image_file, \"BayerRG8\")} for image_file in files]\n",
        "print(f\"{len(pipeline_input)} file(s) in {data_path}\")"
      ]
    },
    {
      "cell_type": "markdown",
      "metadata": {},
      "source": [
        "Send the input through the pipeline and capture output."
      ]
    },
    {
      "cell_type": "code",
      "execution_count": null,
      "metadata": {},
      "outputs": [],
      "source": [
        "os.environ[\"LOGLEVEL\"] = \"INFO\"\n",
        "\n",
        "with LocalPipelineRunner(image_on_edge_package, test_dir) as runner:\n",
        "    pipeline_output = runner.run_pipeline(pipeline_input)"
      ]
    },
    {
      "cell_type": "markdown",
      "metadata": {},
      "source": [
        "Examine the distribution of predictions. The majority of predictions should be in one of the classes."
      ]
    },
    {
      "cell_type": "code",
      "execution_count": null,
      "metadata": {},
      "outputs": [],
      "source": [
        "predictions = pd.DataFrame([output[\"prediction\"] for output in pipeline_output])\n",
        "predictions.value_counts()"
      ]
    },
    {
      "cell_type": "markdown",
      "metadata": {},
      "source": [
        "#### Manually recorded test results for different directories\n",
        "\n",
        "For the example images, we recorded a result for every class into the next list of lists which represents the predicted classes for the given directories.\n",
        "You can check the results for the 'ET200AL' images in the first row as this label is stored in the 0 position of the list."
      ]
    },
    {
      "cell_type": "code",
      "execution_count": null,
      "metadata": {},
      "outputs": [],
      "source": [
        "results = [[167,54,11,21,0],\n",
        "           [15,197, 2,10,2],\n",
        "           [13,12,150,18,0],\n",
        "           [0, 2, 2,107, 5],\n",
        "           [4, 1,1,22,135]]"
      ]
    },
    {
      "cell_type": "markdown",
      "metadata": {},
      "source": [
        "You also can visualize this kind of confusion matrix with our helper method as shown below."
      ]
    },
    {
      "cell_type": "code",
      "execution_count": null,
      "metadata": {},
      "outputs": [],
      "source": [
        "import numpy\n",
        "from utils import show_confusion_matrix\n",
        "\n",
        "confusion_matrix = numpy.array([numpy.array(l) for l in results])\n",
        "show_confusion_matrix(confusion_matrix, labels)"
      ]
    }
  ],
  "metadata": {
    "kernelspec": {
      "display_name": "Python (image_classification)",
      "language": "python",
      "name": "image_classification"
    },
    "language_info": {
      "codemirror_mode": {
        "name": "ipython",
        "version": 3
      },
      "file_extension": ".py",
      "mimetype": "text/x-python",
      "name": "python",
      "nbconvert_exporter": "python",
      "pygments_lexer": "ipython3",
      "version": "3.11.9"
    }
  },
  "nbformat": 4,
  "nbformat_minor": 4
}
