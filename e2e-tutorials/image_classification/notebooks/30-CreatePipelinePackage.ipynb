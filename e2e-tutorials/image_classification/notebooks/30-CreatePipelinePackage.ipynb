{
    "cells": [
        {
            "attachments": {},
            "cell_type": "markdown",
            "metadata": {
                "SPDX-FileCopyrightText": "Copyright (C) Siemens AG 2021. All Rights Reserved.",
                "SPDX-License-Identifier": "MIT"
            },
            "source": [
                "# Create a TensorFlow Lite edge configuration package\n",
                "\n",
                "In this notebook, the main goal is to create a pipeline with all of the contents that are necessary for the execution of the model on an Industrial Edge device.  \n",
                "In order to put the elements together, this example collects files\n",
                "\n",
                "from [10-CreateClassificationModel](10-CreateClassificationModel.ipynb) notebook:  \n",
                "- **classification_mobilnet.tflite**: the trained model for classification with TFlite\n",
                "\n",
                "from [20-CreateInferenceWrapper](20-CreateInferenceWrapper.ipynb) notebook:  \n",
                "- **entrypoint.py**: the script that is called by the runtime to execute the model on the Edge side\n",
                "- **payload.py**: contains the method which extracts the payload and create a PIL Image to be processed\n",
                "- **vision_classifier.py**: contains the method to utilize the model and produces a prediction"
            ]
        },
        {
            "attachments": {},
            "cell_type": "markdown",
            "metadata": {},
            "source": [
                "Please note, there is no official TFLite runtime for Windows."
            ]
        },
        {
            "attachments": {},
            "cell_type": "markdown",
            "metadata": {},
            "source": [
                "### Imports  "
            ]
        },
        {
            "cell_type": "code",
            "execution_count": null,
            "metadata": {},
            "outputs": [],
            "source": [
                "from simaticai import deployment"
            ]
        },
        {
            "attachments": {},
            "cell_type": "markdown",
            "metadata": {},
            "source": [
                "### Create a single component\n",
                "\n",
                "In this step, we create a `PythonComponent` that reads the input data `vision_payload` by `entrypoint.py`, processes the images by `vision_classifier.py` with model `classification_mobilnet.tflite` and produces an output `prediction` by `entrypoint.py` script."
            ]
        },
        {
            "cell_type": "code",
            "execution_count": null,
            "metadata": {},
            "outputs": [],
            "source": [
                "COMPONENT_DESCRIPTION =\"\"\"\\\n",
                "This component uses a trained TensorFlow Lite image classification model that reads the vision_payload input and produces a prediction as an output.\n",
                "\"\"\"\n",
                "INPUT_DESCRIPTION =\"\"\"\n",
                "Vision connector MQTT payload holding the image to be classified.\n",
                "\"\"\"\n",
                "OUTPUT_DESCRIPTION =\"\"\"\n",
                "The most probable class predicted for the image as an integer string.\n",
                "\"\"\"\n",
                "\n",
                "component = deployment.PythonComponent(\n",
                "    name='inference', \n",
                "    python_version='3.11',\n",
                "    desc=COMPONENT_DESCRIPTION)\n",
                "\n",
                "component.add_resources('..', 'entrypoint.py')\n",
                "component.set_entrypoint('entrypoint.py')\n",
                "component.add_resources('..', ['src/payload.py', 'src/vision_classifier.py'])\n",
                "\n",
                "component.add_input('vision_payload', 'ImageSet')\n",
                "component.add_output('prediction', 'String')"
            ]
        },
        {
            "attachments": {},
            "cell_type": "markdown",
            "metadata": {},
            "source": [
                "#### Add metrics\n",
                "It can be useful to monitor the pipeline, e.g. watch the prediction probabilities. The metric name must contain an underscore (`_`), because the part before the underscore is used to group custom metrics on the dashboard.\n",
                "\n",
                "**&#9888; Remember!**\n",
                "You have to use the same names here and in the inference wrapper script."
            ]
        },
        {
            "cell_type": "code",
            "execution_count": null,
            "metadata": {},
            "outputs": [],
            "source": [
                "component.add_metric(\"ic_probability\")"
            ]
        },
        {
            "attachments": {},
            "cell_type": "markdown",
            "metadata": {},
            "source": [
                "### Add dependencies\n",
                "\n",
                "All of the required dependencies are collected in the file `runtime_requirements.txt`. See [HOWTO](../HOWTO.md) for more possibilities."
            ]
        },
        {
            "cell_type": "code",
            "execution_count": null,
            "metadata": {},
            "outputs": [],
            "source": [
                "component.set_requirements('../runtime_requirements-py3.11.txt')"
            ]
        },
        {
            "attachments": {},
            "cell_type": "markdown",
            "metadata": {},
            "source": [
                "### Add a model"
            ]
        },
        {
            "cell_type": "code",
            "execution_count": null,
            "metadata": {},
            "outputs": [],
            "source": [
                "component.add_resources('..', 'models/classification_mobilnet.tflite')"
            ]
        },
        {
            "attachments": {},
            "cell_type": "markdown",
            "metadata": {},
            "source": [
                "### Create a pipeline from this component\n",
                "\n",
                "Now you can use the component to create a pipeline configuration.  "
            ]
        },
        {
            "cell_type": "code",
            "execution_count": null,
            "metadata": {
                "tags": [
                    "testinit_package_name"
                ]
            },
            "outputs": [],
            "source": [
                "PIPELINE_DESCRIPTION =\"\"\"\\\n",
                "This pipeline runs a TensorFlow Lite model on an Industrial Edge device.\n",
                "The model was trained to recognize and classify images of following Siemens SIMATIC automation products: ET 200AL, ET 200eco PN, ET 200SP, S7-1200, S7-1500.\n",
                "\n",
                "The pipeline is designed to be fed from Vision Connector via ZMQ in BayerRG8 pixel format.\n",
                "The pipeline output is to be sent to the Databus.\n",
                "\"\"\"\n",
                "\n",
                "#To assure compatibility with older versions of AI SDK (<v1.5.0), you must define the `version` parameter in the `from_components()` method\n",
                "pipeline = deployment.Pipeline.from_components([component], name='ImageClassification', desc=PIPELINE_DESCRIPTION)\n",
                "pipeline"
            ]
        },
        {
            "attachments": {},
            "cell_type": "markdown",
            "metadata": {},
            "source": [
                "### Build the edge configuration package\n",
                "\n",
                "This step creates the proper content in the defined target folder and creates the edge configuration package as a zip file.  \n",
                "The export method first validates the pipeline and raises an error if it finds any problems. Manual validation is also possible with the `pipeline.validate()` method.\n",
                "\n",
                "Edge packages are identified by their `package id` and `version` attributes, and will be grouped in AI Inference Server and in other Edge applications by `package id`.\n",
                "When saving a pipeline - in the `export()` method - you can specify a `pacakge id` in a UUID 4 compliant format, or an automatically generated one will be assigned. \n",
                "If no `package id` is defined in the `export()` method, and AI SDK finds an already assigned `package id` in a previously generated, and similarly named package, the `package id` found in the latest package will be used.\n",
                "\n",
                "AI SDK will automatically assign and increase the version number of a pipeline every time a package is saved, unless a new package id is assigned in the `export()` method or an explicit version number is defined without package id either in the `export()` method or in the pipeline constructor.\n",
                "\n",
                "Restrictions: \n",
                "- You can not overwrite a previously saved package with the same `package id` if the `package id` is explicitly assigned in the `export()` method \n",
                "- Packages generated with older versions of AI SDK (without `package id`) will be overwritten\n",
                "- If a new `package id` is assigned to an existing version of the package it will overwrite the old one\n",
                "- If no previous version of a package (with a generated or explicitly assigned `package id`) found, AI SDK will assign the version `1` to the created package\n",
                "- Version defined in the `export()` method takes precedence over the version assigned on constructor level\n",
                "\n",
                "Now you are ready to bring your model to the shopfloor by building the edge configuration package from the pipeline configuration. You can achieve this by the following step."
            ]
        },
        {
            "cell_type": "code",
            "execution_count": null,
            "metadata": {},
            "outputs": [],
            "source": [
                "edge_package_path = pipeline.export(destination = '../packages')\n",
                "edge_package_path"
            ]
        },
        {
            "attachments": {},
            "cell_type": "markdown",
            "metadata": {},
            "source": [
                "### Test the edge configuration package locally\n",
                "\n",
                "We suggest you test your edge configuration package on your computer before deploying it to an Edge device. It is possible to do so using notebook [40-TestPipelineLocally.ipynb](40-TestPipelineLocally.ipynb)."
            ]
        },
        {
            "attachments": {},
            "cell_type": "markdown",
            "metadata": {},
            "source": [
                "### Test the edge configuration package in AI Inference Server\n",
                "\n",
                "If you also have dockerized Edge environment on your computer, why not try your package with how-to guide [22-test-on-edge-device](../../../howto-guides/22-test-on-edge-device.md)?  \n",
                "This test can most accurately prove the validity of your package."
            ]
        }
    ],
    "metadata": {
        "kernelspec": {
            "display_name": "Python (image_classification)",
            "language": "python",
            "name": "image_classification"
        },
        "language_info": {
            "codemirror_mode": {
                "name": "ipython",
                "version": 3
            },
            "file_extension": ".py",
            "mimetype": "text/x-python",
            "name": "python",
            "nbconvert_exporter": "python",
            "pygments_lexer": "ipython3",
            "version": "3.11.9"
        }
    },
    "nbformat": 4,
    "nbformat_minor": 4
}
