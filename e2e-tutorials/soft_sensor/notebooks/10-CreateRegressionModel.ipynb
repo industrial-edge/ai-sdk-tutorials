{
 "cells": [
  {
   "attachments": {},
   "cell_type": "markdown",
   "metadata": {
    "copyright": "Copyright (C) Siemens AG 2021. All Rights Reserved."
   },
   "source": [
    "# Soft sensor use case for predicting pH of a solution\n",
    "\n",
    "In this notebook we create and train a model which is assumed to infer on 'AI Inference Server'."
   ]
  },
  {
   "cell_type": "markdown",
   "metadata": {},
   "source": [
    "## Loading the historical data\n",
    "\n",
    "As we discussed in the [Soft Sensor Readme](../README.md), our hypothetical scenario contains three containers of liquids.  \n",
    "We want to measure the pH value of container C, but we cannot do it directly with a sensor.  \n",
    "Instead, we have measurements and control over various other parameters of the system that can affect the pH value saved into file `historical_data.csv`."
   ]
  },
  {
   "cell_type": "code",
   "execution_count": null,
   "metadata": {},
   "outputs": [],
   "source": [
    "import pandas\n",
    "\n",
    "training_data = pandas.read_csv('../data/historical_data.csv')\n",
    "training_data.describe()"
   ]
  },
  {
   "cell_type": "markdown",
   "metadata": {},
   "source": [
    "The loaded DataFrame comprises historical data, including \n",
    "- temperature measurements from three containers (`temperature_A`, `temperature_B`, `temperature_C`) \n",
    "- and the valve positions that regulate the flow rate from container A and B to container C (`valve_position_A` and `valve_position_B`).\n",
    "\n",
    "Furthermore, the DataFrame includes the pH value of the liquid in container C (`ph_C`).  \n",
    "This data is intended for training purposes only. In a real-world scenario, obtaining this specific data can be challenging and/or costly, which justifies the use of soft sensors.\n"
   ]
  },
  {
   "cell_type": "markdown",
   "metadata": {},
   "source": [
    "## Splitting the Data\n",
    "\n",
    "We allocate 20% of the data for testing the accuracy of our trained model in future evaluations."
   ]
  },
  {
   "cell_type": "code",
   "execution_count": null,
   "metadata": {},
   "outputs": [],
   "source": [
    "from sklearn.model_selection import train_test_split\n",
    "\n",
    "input_tags = [\"temperature_A\", \"temperature_B\", \"temperature_C\", \"valve_position_A\", \"valve_position_B\"]\n",
    "X, y = training_data[input_tags], training_data['ph_C']\n",
    "\n",
    "# Split the data into training and testing sets\n",
    "X_train, X_test, y_train, y_test = train_test_split(X, y, test_size=0.2, random_state=42)\n"
   ]
  },
  {
   "cell_type": "markdown",
   "metadata": {},
   "source": [
    "## Training a Prediction Model\n",
    "\n",
    "We hypothesize that the pH value of the liquid in container C exhibits a linear relationship with the measurements from other sensors.  \n",
    "Consequently, we have selected a linear regression model to capture this dependency."
   ]
  },
  {
   "cell_type": "code",
   "execution_count": null,
   "metadata": {},
   "outputs": [],
   "source": [
    "from sklearn.linear_model import LinearRegression\n",
    "\n",
    "# Create a linear regression model\n",
    "linear_reg = LinearRegression()\n",
    "# Fit the model on the training data\n",
    "linear_reg.fit(X_train, y_train)"
   ]
  },
  {
   "cell_type": "markdown",
   "metadata": {},
   "source": [
    "## Measure the error\n",
    "\n",
    "In this section, we measure the error on both the training and testing datasets using the mean squared error (MSE). MSE is a common metric for evaluating the performance of regression models - the lower the MSE values, the better the model is expected to perform.\n",
    "\n",
    "Furthermore, when the MSE values for the training and testing datasets are close to each other, it suggests that the model generalizes well to new, unseen data."
   ]
  },
  {
   "cell_type": "code",
   "execution_count": null,
   "metadata": {},
   "outputs": [],
   "source": [
    "from sklearn.metrics import mean_squared_error\n",
    "\n",
    "# Predict on the training set\n",
    "y_train_pred = linear_reg.predict(X_train)\n",
    "\n",
    "# Predict on the testing set\n",
    "y_test_pred = linear_reg.predict(X_test)\n",
    "\n",
    "# Measure the accuracy using mean squared error\n",
    "train_mse = mean_squared_error(y_train, y_train_pred)\n",
    "test_mse = mean_squared_error(y_test, y_test_pred)\n",
    "\n",
    "print(f\"Train MSE = {train_mse:.5f}\\nTest MSE = {test_mse:.5f}\")\n",
    "\n",
    "# Print the linear regression coefficients\n",
    "print(\"Coefficients:\", linear_reg.coef_)"
   ]
  },
  {
   "cell_type": "markdown",
   "metadata": {},
   "source": [
    "## Visualize the data\n",
    "\n",
    "Here we plot the last 200 values of the true pH values compared to the predictions of our linear regression model."
   ]
  },
  {
   "cell_type": "code",
   "execution_count": null,
   "metadata": {},
   "outputs": [],
   "source": [
    "import matplotlib.pyplot as plt\n",
    "\n",
    "# Plot the true values and predictions for the test set\n",
    "plt.figure(figsize=(14, 7))\n",
    "plt.plot(y_test.values[:200], label='True ph_C values')\n",
    "plt.plot(y_test_pred[:200], label='Predicted ph_C values')\n",
    "plt.legend()\n",
    "plt.xlabel('Sample index')\n",
    "plt.ylabel('ph_C')\n",
    "plt.title('True vs Predicted ph_C values')\n",
    "plt.show()"
   ]
  },
  {
   "cell_type": "markdown",
   "metadata": {},
   "source": [
    "### Save the model\n",
    "\n",
    "Once the model is acceptable, we can save it into a joblib file. "
   ]
  },
  {
   "cell_type": "code",
   "execution_count": null,
   "metadata": {},
   "outputs": [],
   "source": [
    "import joblib\n",
    "\n",
    "model_path = f\"../models/model.joblib\"\n",
    "with open(model_path, 'wb') as fh:\n",
    "    joblib.dump(linear_reg, model_path, compress=9)"
   ]
  },
  {
   "cell_type": "markdown",
   "metadata": {},
   "source": [
    "Notebook [20-CreateInferenceWrapper](20-CreateInferenceWrapper.ipynb) shows how to create a Python wrapper around the model."
   ]
  }
 ],
 "metadata": {
  "kernelspec": {
   "display_name": "Python (soft_sensor_tutorial)",
   "language": "python",
   "name": "soft_sensor_tutorial"
  },
  "language_info": {
   "codemirror_mode": {
    "name": "ipython",
    "version": 3
   },
   "file_extension": ".py",
   "mimetype": "text/x-python",
   "name": "python",
   "nbconvert_exporter": "python",
   "pygments_lexer": "ipython3",
   "version": "3.10.12"
  }
 },
 "nbformat": 4,
 "nbformat_minor": 4
}
