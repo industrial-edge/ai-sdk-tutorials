{
 "cells": [
  {
   "cell_type": "markdown",
   "metadata": {
    "copyright": "Copyright (C) Siemens AG 2021. All Rights Reserved."
   },
   "source": [
    "# Testing the Pipeline Package locally\n",
    "This notebook shows how to use `LocalPipelineRunner` to test the components of the Pipeline Package in a local virtual Python environment.\n",
    "\n",
    "The Pipeline Package used here was created in the [30-CreatePipelinePackage.ipynb](30-CreatePipelinePackage.ipynb) notebook.\n",
    "\n",
    "The `LocalPipelineRunner` object takes the Pipeline Package and extracts its components.  \n",
    "Once the components are extracted, you can run them individually by calling `run_component` with component name and structured input data.  \n",
    "The method builds a `venv` Python virtual environment for running the component and installs the required dependencies listed in the `requirements` file defined for the component (`runtime_requirements.txt` as defined [30-CreatePipelinePackage.ipynb](30-CreatePipelinePackage.ipynb) notebook).  \n",
    "Once the virtual python environment is ready, the method executes and feeds the component with your test data."
   ]
  },
  {
   "cell_type": "markdown",
   "metadata": {},
   "source": [
    "## Creating test payloads\n",
    "\n",
    "First, we will generate test payloads to validate the pipeline's functionality.  \n",
    "We will load data from the `historical_data.csv` file and create a list of payloads, with each payload containing 60 records."
   ]
  },
  {
   "cell_type": "code",
   "execution_count": null,
   "metadata": {},
   "outputs": [],
   "source": [
    "import pandas\n",
    "import numpy as np\n",
    "\n",
    "data = pandas.read_csv(\"../data/historical_data.csv\")\n",
    "\n",
    "input_tags = [\"temperature_A\", \"temperature_B\", \"temperature_C\", \"valve_position_A\", \"valve_position_B\"]\n",
    "\n",
    "data = data[input_tags]\n",
    "data_dicts = data.to_dict(orient='records')\n",
    "\n",
    "payloads = [data_dicts[i:i + 60] for i in range(0, len(data_dicts), 60)]\n",
    "print(np.array(payloads).shape)"
   ]
  },
  {
   "cell_type": "markdown",
   "metadata": {},
   "source": [
    "The length of the payload list shows that we translated the historical data into 1440 payloads with 60 records in each."
   ]
  },
  {
   "cell_type": "markdown",
   "metadata": {},
   "source": [
    "## Testing the package locally\n",
    "\n",
    "### Testing a single component\n",
    "\n",
    "We can test the workflow with `LocalPipelineRunner`. We set the path to the Pipeline Package created in the [previous notebook](30-CreatePipelinePackage.ipynb), and run the single component we created there with a payload.\n"
   ]
  },
  {
   "cell_type": "code",
   "execution_count": null,
   "metadata": {
    "tags": [
     "testinit_package_name"
    ]
   },
   "outputs": [],
   "source": [
    "from pathlib import Path\n",
    "from simaticai.testing.pipeline_runner import LocalPipelineRunner\n",
    "\n",
    "# Adjust the version number as needed\n",
    "soft_sensor_on_edge_package = Path('../packages/SoftSensorPipeline-edge_1.zip')\n",
    "\n",
    "test_dir = Path(\"../test\")\n",
    "\n",
    "with LocalPipelineRunner(soft_sensor_on_edge_package, test_dir) as runner:\n",
    "    pipeline_output = runner.run_component(\"valve_controller\", [payloads[0]])"
   ]
  },
  {
   "cell_type": "markdown",
   "metadata": {},
   "source": [
    "Now we can check the calculated output for the first payload."
   ]
  },
  {
   "cell_type": "code",
   "execution_count": null,
   "metadata": {},
   "outputs": [],
   "source": [
    "pipeline_output"
   ]
  },
  {
   "cell_type": "markdown",
   "metadata": {},
   "source": [
    "### Testing the pipeline\n",
    "\n",
    "Alternatively, we can test the entire pipeline instead of a single component."
   ]
  },
  {
   "cell_type": "code",
   "execution_count": null,
   "metadata": {},
   "outputs": [],
   "source": [
    "with LocalPipelineRunner(soft_sensor_on_edge_package, test_dir) as runner:\n",
    "    pipeline_output = runner.run_pipeline([payloads[0]])"
   ]
  },
  {
   "cell_type": "code",
   "execution_count": null,
   "metadata": {},
   "outputs": [],
   "source": [
    "pipeline_output"
   ]
  },
  {
   "cell_type": "markdown",
   "metadata": {},
   "source": [
    "### Testing the pipeline on the entire payload\n",
    "\n",
    "Finally, we can run the whole Pipeline Package on the entire list of payloads.  \n",
    "In this case the `LocalPipelineRunner` iterates over the elemnts of the `payloads` list and collects the provided outputs into a list"
   ]
  },
  {
   "cell_type": "code",
   "execution_count": null,
   "metadata": {},
   "outputs": [],
   "source": [
    "with LocalPipelineRunner(soft_sensor_on_edge_package, test_dir) as runner:\n",
    "    pipeline_output = runner.run_pipeline(payloads[:10])  # Run the first 10 payloads, but you can choose any valid range of the payloads"
   ]
  },
  {
   "cell_type": "code",
   "execution_count": null,
   "metadata": {},
   "outputs": [],
   "source": [
    "pipeline_output"
   ]
  }
 ],
 "metadata": {
  "kernelspec": {
   "display_name": "Python (soft_sensor_tutorial)",
   "language": "python",
   "name": "soft_sensor_tutorial"
  },
  "language_info": {
   "codemirror_mode": {
    "name": "ipython",
    "version": 3
   },
   "file_extension": ".py",
   "mimetype": "text/x-python",
   "name": "python",
   "nbconvert_exporter": "python",
   "pygments_lexer": "ipython3",
   "version": "3.10.12"
  }
 },
 "nbformat": 4,
 "nbformat_minor": 4
}
