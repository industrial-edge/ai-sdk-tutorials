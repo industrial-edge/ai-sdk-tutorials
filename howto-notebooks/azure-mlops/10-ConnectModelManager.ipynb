{
  "cells": [
    {
      "attachments": {},
      "cell_type": "markdown",
      "metadata": {
        "copyright": "Copyright (C) Siemens AG 2021. All Rights Reserved."
      },
      "source": [
        "# Create Azure Workspace for AI Model Manager\n",
        "\n",
        "When you want to automate your machine learning workflow with steps like training, packaging a model or deploying an Edge Configuration Pipeline, \n",
        "it comes handy to create them in an Azure Machine Learning Studio environment.  \n",
        "The main goal of this notebook is to create a connection between Azure automation and make it possible to deploy a model into Edge environment via AI Model Manager.  \n",
        "What makes it possible is a messaging connection between Azure workspace and AI Model Manager. This connection requires an Azure IoT Hub created with a device which represents AI Model Manager in your Edge environment.  \n",
        "As you will work with sensitive information, you should use this notebook on your local machine and store your keys in a safe way.\n",
        "\n",
        "By the end of this notebook study, you will be able to\n",
        "- create required IoT Hub with a Device in Azure\n",
        "- configure an AI Model Manager workspace for Azure"
      ]
    },
    {
      "cell_type": "markdown",
      "metadata": {},
      "source": [
        "But first, let's import some required Python packages!"
      ]
    },
    {
      "cell_type": "code",
      "execution_count": null,
      "metadata": {},
      "outputs": [],
      "source": [
        "import os\n",
        "from pathlib import Path\n",
        "import stat\n",
        "import urllib.request"
      ]
    },
    {
      "attachments": {},
      "cell_type": "markdown",
      "metadata": {},
      "source": [
        "## Create Azure IoT HUB and Device\n",
        "\n",
        "To understand the messaging concept, please study the relevant Azure pages on [IoT Hub concept](https://learn.microsoft.com/en-us/azure/iot-hub/iot-hub-devguide?source=recommendations).  \n",
        "\n",
        "### Create an IoT Hub\n",
        "**&#9757; Manual step!**  \n",
        "As the _manual steps_ on page [Create an IoT hub](https://learn.microsoft.com/en-us/azure/iot-hub/iot-hub-create-through-portal) are explained in depth, we only focus on how to use the certificates and keys for successful communication.  \n",
        "Please, create the IoT Hub using the [creation form](https://portal.azure.com/#create/Microsoft.IotHub) after logging in with your Azure user.  \n",
        "Here you need to choose \n",
        "- one of your 'Subscription's, \n",
        "- an existing 'Resource Group', or creating a new one, \n",
        "- the 'Region' where your resources will be registered, \n",
        "- and an 'IoT hub name' of your choice.  \n",
        "\n",
        "You can leave the other settings on default.\n",
        "\n",
        "Once the IoT Hub is created, you will have its name, which will be needed later in this notebook, so set the `iot_hub_name` variable.  \n",
        "Based on the name a hostname and a username will also be connected to your IoT Hub which will be used in this example, as well.  \n",
        "Please find your hostname on `Properties` page of your Iot Hub as `Host name` and set the `iot_host_name` variable below.\n"
      ]
    },
    {
      "cell_type": "code",
      "execution_count": null,
      "metadata": {},
      "outputs": [],
      "source": [
        "iot_hub_name = \"<iot_hub_name>\"\n",
        "iot_host_name = \"<iot_host_name>\""
      ]
    },
    {
      "attachments": {},
      "cell_type": "markdown",
      "metadata": {},
      "source": [
        "### CA Certificates for IoT Hub\n",
        "\n",
        "Once the IoT Hub is created, it has a certificate chain that is used to encrypt the communication channel. Model Manager needs to verificate the server's certificate chain, thus it needs its root certificate authority. The certificate authority can differ for the different regions.  \n",
        "In our example `DigiCert Global Root G2` will be used, but in case of Azure China `DigiCert Global Root CA` should be used. \n",
        "\n",
        "For further details of certificate authorities see [DigiCert](https://www.digicert.com/kb/digicert-root-certificates.htm) page. The code cell below uses this page to download the `DigiCert Global Root G2` certificate file.  \n",
        "To store certificates and keys in one place, you need to define\n",
        "- `certificates_path`, which should be a path of your choice.  \n",
        "    We suggest to store your certificates and private keys in a hidden folder of your _'Home'_ directory on your local computer.  \n",
        "    To do so it is also recommended to execute this notebook locally."
      ]
    },
    {
      "cell_type": "code",
      "execution_count": null,
      "metadata": {},
      "outputs": [],
      "source": [
        "certificates_path = Path.home() / \".certificates\"  # to store your security keys separately, you should define a safe path in your HOME directory\n",
        "\n",
        "if not certificates_path.is_dir():\n",
        "    certificates_path.mkdir(parents=True, exist_ok=True)\n",
        "    os.chmod(certificates_path, stat.S_IRWXU)  # to make the folder safe, change its access rights\n",
        "\n",
        "os.chdir(certificates_path)"
      ]
    },
    {
      "cell_type": "code",
      "execution_count": null,
      "metadata": {},
      "outputs": [],
      "source": [
        "root_ca_cert_path = certificates_path / \"DigiCertGlobalRootG2.crt.pem\"\n",
        "urllib.request.urlretrieve(\"https://cacerts.digicert.com/DigiCertGlobalRootG2.crt.pem\", root_ca_cert_path)"
      ]
    },
    {
      "cell_type": "markdown",
      "metadata": {},
      "source": [
        "### Create Device Credentials\n",
        "\n",
        "In our example, for the sake of simplicity we are using Self Signed Certificates in the communication of AI Model Manager and the IoT Hub.\n",
        "\n",
        "AI Model Manager will use device credentials to identify itself in Azure, and we will create them below.  \n",
        "The certificates and keys will be created in the previously defined folder `certificates_path`.\n"
      ]
    },
    {
      "attachments": {},
      "cell_type": "markdown",
      "metadata": {},
      "source": [
        "For key creation you need to define\n",
        "- `device_id`,  \n",
        "    which the name of the device you need to add to your IoT Hub later\n",
        "- `crt_subj`,  \n",
        "    which is the subject of the certificate and the device id as _Common Name (CN)_.  \n",
        "    The other fields of the subject are based on your location (e.g. '/C=IE/S=Dublin/L=Dublin 4/O=Company Ltd./OU=R&D/CN=ic_target_device').  \n",
        "    A detailed description about used credentials can be found on the [Certificate requirements](https://learn.microsoft.com/en-us/azure/databox-online/azure-stack-edge-gpu-certificate-requirements) Azure pages.\n"
      ]
    },
    {
      "cell_type": "code",
      "execution_count": null,
      "metadata": {},
      "outputs": [],
      "source": [
        "device_id = \"ic_target_device\"\n",
        "device_crt_subject = f\"/CN={device_id}\""
      ]
    },
    {
      "attachments": {},
      "cell_type": "markdown",
      "metadata": {},
      "source": [
        "\n",
        "The following path variables are compiled from the `device_id` and contain the path of the `private key`, the `self-signed device certificate`, and the `fingerprint of the certificate`, respectively."
      ]
    },
    {
      "cell_type": "code",
      "execution_count": null,
      "metadata": {},
      "outputs": [],
      "source": [
        "key_file_path = certificates_path / f\"{device_id}.key\"\n",
        "cert_file_path = certificates_path / f\"{device_id}.cert.pem\"\n",
        "thumb_file_path = certificates_path / f\"{device_id}.thumb.txt\""
      ]
    },
    {
      "cell_type": "markdown",
      "metadata": {},
      "source": [
        "Now you can create the certificate and private key files with one `openssl` command.  \n",
        "In order the command to work, `openssl` must be installed and added to the system PATH."
      ]
    },
    {
      "cell_type": "code",
      "execution_count": null,
      "metadata": {},
      "outputs": [],
      "source": [
        "os.system(f\"openssl req -x509 -sha256 -nodes -newkey rsa:4096 -keyout {key_file_path} -days 730 -out {cert_file_path} -subj '{device_crt_subject}'\")"
      ]
    },
    {
      "cell_type": "markdown",
      "metadata": {},
      "source": [
        "Then let's calculate the fingerprint of the certificate!"
      ]
    },
    {
      "cell_type": "code",
      "execution_count": null,
      "metadata": {},
      "outputs": [],
      "source": [
        "os.system(f\"openssl x509 -in {cert_file_path} -noout -fingerprint -sha256 -inform pem > {thumb_file_path}\")\n",
        "fingerprint = open(thumb_file_path).readline()\n",
        "print(\"device_id:\", device_id)\n",
        "print(\"thumbprint:\", fingerprint.split(\"=\")[1].replace(\":\",\"\"))"
      ]
    },
    {
      "attachments": {},
      "cell_type": "markdown",
      "metadata": {},
      "source": [
        "**&#9757; Manual step!**  \n",
        "Now you can add your device _manually_ to your IoT Hub by choosing `Devices` menu item and clicking on the `Add` button on the top.  \n",
        "On the form you need to add \n",
        "- `Device ID`,\n",
        "    which is same as defined above as `device_id`\n",
        "- `Authentication type` as `X.509 Self-Signed`  \n",
        "    because we created a self-signed certificate above\n",
        "- `Primary and Secondary Thumbprint`  \n",
        "    which is calculated above"
      ]
    },
    {
      "cell_type": "markdown",
      "metadata": {},
      "source": [
        "### Create MQTT config file for AI Model Manager"
      ]
    },
    {
      "cell_type": "markdown",
      "metadata": {},
      "source": [
        "To enable the connection between the created IoT Device and AI Model Manager, you need a configuration file which contains security properties for the device.  \n",
        "This configuration file is compiled the code box below."
      ]
    },
    {
      "cell_type": "code",
      "execution_count": null,
      "metadata": {},
      "outputs": [],
      "source": [
        "device_crt = open(cert_file_path).read()\n",
        "device_key = open(key_file_path).read()\n",
        "root_ca_content = \"\\n\".join(open(root_ca_cert_path).readlines())\n",
        "\n",
        "endpoint = f'wss://{iot_host_name}:443/$iothub/websocket'  # using WebSocket\n",
        "# endpoint = f'tls://{iot_host_name}:8883'  # using TCP over TLS\n",
        "\n",
        "mqtt_config = {\n",
        "    'ca_cert': root_ca_content,\n",
        "    'x509_certificate': device_crt,\n",
        "    'x509_private_key': device_key,\n",
        "    'endpoint': endpoint,\n",
        "    'topic_prefix': f'devices/{device_id}',\n",
        "    'username': f'{iot_host_name}/{device_id}/?api-version=2021-04-12',\n",
        "    'client_id': device_id\n",
        "}\n",
        "mqtt_config"
      ]
    },
    {
      "cell_type": "markdown",
      "metadata": {},
      "source": [
        "In this step we save the `credential` dictionary as json in the `certificates_path` directory as `mqtt-config.json`.  \n",
        "When you are about to create a workspace for Azure in AI Model Manager, you have to upload this file."
      ]
    },
    {
      "cell_type": "code",
      "execution_count": null,
      "metadata": {},
      "outputs": [],
      "source": [
        "import json\n",
        "with open(certificates_path / f\"{device_id}-config.json\", \"w\") as conf:\n",
        "    json.dump(mqtt_config, conf, indent=4)"
      ]
    },
    {
      "cell_type": "markdown",
      "metadata": {},
      "source": [
        "## Define Azure workspace in Model Manager\n",
        "<!-- _source: https://157.163.16.25/mlmanager/assets/docs/user-manual/en-US/index.html#treeId=7d08e4300a8dce92704053b12cb03245_ -->\n",
        "\n",
        "**&#129306; Please wait!**  \n",
        "Before you go further in this notebook, you should wait until your device_id appears in the list on the IoT Hub management page under the `Devices` menu.\n",
        "\n",
        "**&#9757; Manual step!**  \n",
        "Here we create an Azure workspace in your AI Model Manager running on your Edge Device, and connect it to your previously created device by the compiled `mqtt-config.json` file.\n",
        "\n",
        "The steps have to be taken:\n",
        "1. Open `Workspace area` and click on the `Create new workspace` button\n",
        "1. ​Enter the name of your new workspace\n",
        "1. ​Choose the workspace type `Cloud Integration`\n",
        "1. ​Choose the Cloud system `Microsoft Azure`\n",
        "1. ​Choose the Integration type `IoT Hub`\n",
        "1. ​Upload the MQTT connection configuration file (created above)\n",
        "1. ​Click on the `Create workspace` button\n",
        "\n",
        "![aimm-create-new](images/aimm-workspace-new.png)\n",
        "\n"
      ]
    },
    {
      "cell_type": "markdown",
      "metadata": {},
      "source": [
        "Once the workspace is created in AI Model Manager, a couple of messages should appear on the `Overview` page of your IoT Hub."
      ]
    },
    {
      "cell_type": "markdown",
      "metadata": {},
      "source": [
        "## Useful links\n",
        "\n",
        "- Install Azure CLI  \n",
        "[https://learn.microsoft.com/en-us/cli/azure/install-azure-cli-linux](https://learn.microsoft.com/en-us/cli/azure/install-azure-cli-linux)\n",
        "- Create IoT HUB and Device  \n",
        "[https://learn.microsoft.com/en-us/azure/iot-develop/quickstart-send-telemetry-iot-hub](https://learn.microsoft.com/en-us/azure/iot-develop/quickstart-send-telemetry-iot-hub)\n"
      ]
    }
  ],
  "metadata": {
    "kernelspec": {
      "display_name": "azure-mlops",
      "language": "python",
      "name": "azure-mlops"
    },
    "language_info": {
      "codemirror_mode": {
        "name": "ipython",
        "version": 3
      },
      "file_extension": ".py",
      "mimetype": "text/x-python",
      "name": "python",
      "nbconvert_exporter": "python",
      "pygments_lexer": "ipython3",
      "version": "3.11.9"
    }
  },
  "nbformat": 4,
  "nbformat_minor": 4
}
